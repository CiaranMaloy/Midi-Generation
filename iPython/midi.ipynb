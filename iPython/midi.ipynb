{
 "cells": [
  {
   "cell_type": "markdown",
   "metadata": {},
   "source": [
    "# Notebook for editing and working with midi data in python"
   ]
  },
  {
   "cell_type": "code",
   "execution_count": 1,
   "metadata": {},
   "outputs": [],
   "source": [
    "# 2x main functions that need to be fleshed out initially: \n",
    "\n",
    "def midi_to_pandas():\n",
    "    #takes in midi data as a midi file object and stores it as a representation within a pandas dataframe\n",
    "    # returns the pandas dataframe\n",
    "    return\n",
    "\n",
    "def midi_from_pandas():\n",
    "    # takes in a pandas dataframe of known format and converts the output to 'midi_data'\n",
    "    # which can be passed into midi_to_bytes and downloaded\n",
    "    return"
   ]
  },
  {
   "cell_type": "code",
   "execution_count": null,
   "metadata": {},
   "outputs": [],
   "source": []
  }
 ],
 "metadata": {
  "kernelspec": {
   "display_name": ".venv",
   "language": "python",
   "name": "python3"
  },
  "language_info": {
   "codemirror_mode": {
    "name": "ipython",
    "version": 3
   },
   "file_extension": ".py",
   "mimetype": "text/x-python",
   "name": "python",
   "nbconvert_exporter": "python",
   "pygments_lexer": "ipython3",
   "version": "3.11.3"
  }
 },
 "nbformat": 4,
 "nbformat_minor": 2
}
